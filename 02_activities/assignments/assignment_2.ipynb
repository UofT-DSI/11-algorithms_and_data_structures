{
 "cells": [
  {
   "cell_type": "markdown",
   "metadata": {},
   "source": [
    "# Practice Interview\n",
    "\n",
    "## Objective\n",
    "\n",
    "_*The partner assignment aims to provide participants with the opportunity to practice coding in an interview context. You will analyze your partner's Assignment 1. Moreover, code reviews are common practice in a software development team. This assignment should give you a taste of the code review process.*_\n",
    "\n",
    "## Group Size\n",
    "\n",
    "Each group should have 2 people. You will be assigned a partner\n",
    "\n",
    "## Part 1:\n",
    "\n",
    "You and your partner must share each other's Assignment 1 submission."
   ]
  },
  {
   "cell_type": "markdown",
   "metadata": {},
   "source": [
    "\n",
    "## Part 2:\n",
    "\n",
    "Create a Jupyter Notebook, create 6 of the following headings, and complete the following for your partner's assignment 1:\n",
    "\n",
    "-   Paraphrase the problem in your own words.\n"
   ]
  },
  {
   "cell_type": "markdown",
   "metadata": {},
   "source": [
    "I am provided with a list of integers between 0 and 𝑛 (the largest possible number in the range). \n",
    "+ Some numbers in the range may be missing from the list\n",
    "+ Some numbers may appear multiple times\n",
    "\n",
    "My code has to return:\n",
    "+ the numbers are not present in the list, if there is any\n",
    "+ -1, if no number is missing"
   ]
  },
  {
   "cell_type": "markdown",
   "metadata": {},
   "source": [
    "\n",
    "-   Create 1 new example that demonstrates you understand the problem. Trace/walkthrough 1 example that your partner made and explain it.\n"
   ]
  },
  {
   "cell_type": "markdown",
   "metadata": {},
   "source": [
    "My example: \n",
    "\n",
    "Input = [10, 1, 5, 3, 4, 5, 0, 7, 8, 10]\n",
    "\n",
    "output = [2, 6, 9]"
   ]
  },
  {
   "cell_type": "markdown",
   "metadata": {},
   "source": [
    "My partner example:\n",
    "\n",
    "Input = [1, 3, 4, 5, 6, 7]\n",
    "\n",
    "Output = [2]\n",
    "\n",
    "For this case:\n",
    "\n",
    "min_num = min(nums) = 1\n",
    "\n",
    "max_num = max(nums) = 7\n",
    "\n",
    "expected_sum = sum(range(1, 8)) = sum(1, 2, 3, 4, 5, 6, 7) = 1+2+3+4+5+6+7 = 28\n",
    "\n",
    "actual_sum = sum(1, 3, 4, 5, 6, 7) = 1+3+4+5+6+7 = 26\n",
    "\n",
    "missing_numb(nums) = expected_sum - actual_sum = 2\n",
    "\n",
    "For this example, the code should return 0 and 2 but it just returns 2."
   ]
  },
  {
   "cell_type": "markdown",
   "metadata": {},
   "source": [
    "\n",
    "-   Copy the solution your partner wrote. \n"
   ]
  },
  {
   "cell_type": "code",
   "execution_count": 1,
   "metadata": {},
   "outputs": [
    {
     "name": "stdout",
     "output_type": "stream",
     "text": [
      "2\n"
     ]
    }
   ],
   "source": [
    "from typing import List\n",
    "\n",
    "def missing_numb(nums: List) -> int:\n",
    "    # Calculate the expected sum from the minimum to the maximum element in nums\n",
    "    min_num = min(nums)\n",
    "    max_num = max(nums)\n",
    "    expected_sum = sum(range(min_num, max_num + 1))\n",
    "    actual_sum = sum(nums)\n",
    "    # The missing number is the difference between expected and actual sums\n",
    "    return expected_sum - actual_sum\n",
    "\n",
    "nums = [1, 3, 4, 5, 6, 7]\n",
    "print(missing_numb(nums))  # This should output 2 as the missing number."
   ]
  },
  {
   "cell_type": "markdown",
   "metadata": {},
   "source": [
    "\n",
    "-   Explain why their solution works in your own words.\n"
   ]
  },
  {
   "cell_type": "markdown",
   "metadata": {},
   "source": [
    "The code finds the maximum and minimum numbers in the range and finds the sum of all integers between them to return expected_sum. It then calculates the sum of numbers in the input list (nums) to find the actual_sum. Finally, the code tries to find the missng number by subtracting the two sums that were calculated."
   ]
  },
  {
   "cell_type": "markdown",
   "metadata": {},
   "source": [
    "\n",
    "-   Explain the problem’s time and space complexity in your own words.\n"
   ]
  },
  {
   "cell_type": "markdown",
   "metadata": {},
   "source": [
    "+ Time Complexity\n",
    "\n",
    "min(nums) and max(nums): each requires a single traversal of the list, so their time complexity is O(n), where n is the length of the input list nums.\n",
    "\n",
    "sum(range(min_num, max_num + 1)): Since this is an arithmetic sequence, its computation is O(k), where k is number of integers between min_num and max_num + 1.\n",
    "\n",
    "sum(nums): Since this is an arithmetic sequence, its computation is O(n), where n is the length of the input list nums.\n",
    "\n",
    "Total Time Complexity: is dominated by the larger of O(n) and O(k). Since k =< n, the overall time complexity is O(n).\n",
    "\n",
    "+ Space Complexity\n",
    "\n",
    "Storing intermediate variables: Variables like min_num, max_num, expected_sum, and actual_sum require O(1) space.\n",
    "\n",
    "range(min_num, max_num + 1): does not take additional memory for the entire sequence.\n",
    "\n",
    "Total Space Complexity: The function does not store additional data structures dependent on the size of the input, so the space complexity is O(1)."
   ]
  },
  {
   "cell_type": "markdown",
   "metadata": {},
   "source": [
    "\n",
    "-   Critique your partner's solution, including explanation, and if there is anything that should be adjusted.\n"
   ]
  },
  {
   "cell_type": "markdown",
   "metadata": {},
   "source": [
    "The code does not work properly. In fact, it just works if only one number is missing.\n",
    "\n",
    "It does not work if: \n",
    "\n",
    "+ Multiple numbers are missing\n",
    "+ The list contains duplicate values\n",
    "+ The range of numbers does not include 0\n",
    "\n",
    "The code can be adjusted as follow:"
   ]
  },
  {
   "cell_type": "code",
   "execution_count": 2,
   "metadata": {},
   "outputs": [
    {
     "name": "stdout",
     "output_type": "stream",
     "text": [
      "[0, 2]\n"
     ]
    }
   ],
   "source": [
    "def find_missing_numbers(nums, n):\n",
    "\n",
    "    whole_numbers = set(range(0, n + 1))\n",
    "    input_numbers = set(nums)\n",
    "    missing_numbers = whole_numbers.difference(input_numbers)\n",
    "\n",
    "    if missing_numbers:\n",
    "        return list(missing_numbers) \n",
    "    else: \n",
    "        return [-1]\n",
    "\n",
    "nums = [1, 3, 4, 5, 6, 7]\n",
    "n = 7\n",
    "print(find_missing_numbers(nums, n))  # Output: [0, 2]"
   ]
  },
  {
   "cell_type": "markdown",
   "metadata": {},
   "source": [
    "\n",
    "## Part 3:\n",
    "\n",
    "Please write a 200 word reflection documenting your process from assignment 1, and your presentation and review experience with your partner at the bottom of the Jupyter Notebook under a new heading \"Reflection.\" Again, export this Notebook as pdf.\n"
   ]
  },
  {
   "cell_type": "markdown",
   "metadata": {},
   "source": [
    "### Reflection"
   ]
  },
  {
   "cell_type": "markdown",
   "metadata": {},
   "source": [
    "In Assignment 1, I first, focused on understanding the problem by paraphrasing it in my own words. This helped me understand the task and guided my approach to crafting examples. Testing additional examples ensured that my solution was robust and capable of handling various scenarios.\n",
    "\n",
    "Implementing the solution using breadth-first search (BFS) taught me the importance of efficient data structures like sets and queues for maintaining traversal state and detecting duplicates. Alignment of BFS with the problem of finding the duplicate closest to the root makes it an optimal choice.\n",
    "\n",
    "I also understood how algorithm choices impact time and space complexity.\n",
    "\n",
    "Reviewing my partner's solution was insightful and provided new perspectives and reinforced my critical thinking and problem-solving.\n",
    "\n",
    "Overall, this assignment enhanced my ability to design, analyze, and explain algorithms while emphasizing clarity and efficiency in implementation."
   ]
  },
  {
   "cell_type": "markdown",
   "metadata": {},
   "source": [
    "\n",
    "## Evaluation Criteria\n",
    "\n",
    "We are looking for the similar points as Assignment 1\n",
    "\n",
    "-   Problem is accurately stated\n",
    "\n",
    "-   New example is correct and easily understandable\n",
    "\n",
    "-   Correctness, time, and space complexity of the coding solution\n",
    "\n",
    "-   Clarity in explaining why the solution works, its time and space complexity\n",
    "\n",
    "-   Quality of critique of your partner's assignment, if necessary\n"
   ]
  },
  {
   "cell_type": "markdown",
   "metadata": {},
   "source": [
    "## Submission Information\n",
    "\n",
    "🚨 **Please review our [Assignment Submission Guide](https://github.com/UofT-DSI/onboarding/blob/main/onboarding_documents/submissions.md)** 🚨 for detailed instructions on how to format, branch, and submit your work. Following these guidelines is crucial for your submissions to be evaluated correctly.\n",
    "\n",
    "### Submission Parameters:\n",
    "* Submission Due Date: `HH:MM AM/PM - DD/MM/YYYY`\n",
    "* The branch name for your repo should be: `assignment-2`\n",
    "* What to submit for this assignment:\n",
    "    * This Jupyter Notebook (assignment_2.ipynb) should be populated and should be the only change in your pull request.\n",
    "* What the pull request link should look like for this assignment: `https://github.com/<your_github_username>/algorithms_and_data_structures/pull/<pr_id>`\n",
    "    * Open a private window in your browser. Copy and paste the link to your pull request into the address bar. Make sure you can see your pull request properly. This helps the technical facilitator and learning support staff review your submission easily.\n",
    "\n",
    "Checklist:\n",
    "- [ ] Created a branch with the correct naming convention.\n",
    "- [ ] Ensured that the repository is public.\n",
    "- [ ] Reviewed the PR description guidelines and adhered to them.\n",
    "- [ ] Verify that the link is accessible in a private browser window.\n",
    "\n",
    "If you encounter any difficulties or have questions, please don't hesitate to reach out to our team via our Slack at `#cohort-3-help`. Our Technical Facilitators and Learning Support staff are here to help you navigate any challenges.\n"
   ]
  }
 ],
 "metadata": {
  "kernelspec": {
   "display_name": "dsi_participant",
   "language": "python",
   "name": "python3"
  },
  "language_info": {
   "codemirror_mode": {
    "name": "ipython",
    "version": 3
   },
   "file_extension": ".py",
   "mimetype": "text/x-python",
   "name": "python",
   "nbconvert_exporter": "python",
   "pygments_lexer": "ipython3",
   "version": "3.9.15"
  }
 },
 "nbformat": 4,
 "nbformat_minor": 2
}
